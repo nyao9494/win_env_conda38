{
 "cells": [
  {
   "cell_type": "code",
   "execution_count": 5,
   "metadata": {
    "ExecuteTime": {
     "end_time": "2020-09-06T12:59:15.035274Z",
     "start_time": "2020-09-06T12:59:14.780431Z"
    }
   },
   "outputs": [],
   "source": [
    "! explorer ."
   ]
  },
  {
   "cell_type": "code",
   "execution_count": 3,
   "metadata": {
    "ExecuteTime": {
     "end_time": "2020-09-06T13:00:18.403638Z",
     "start_time": "2020-09-06T13:00:17.689078Z"
    }
   },
   "outputs": [],
   "source": [
    "! code ."
   ]
  },
  {
   "cell_type": "code",
   "execution_count": 1,
   "metadata": {
    "ExecuteTime": {
     "end_time": "2020-09-06T13:00:05.656628Z",
     "start_time": "2020-09-06T13:00:04.779170Z"
    }
   },
   "outputs": [],
   "source": [
    "import env_copy\n",
    "self=env_copy.env_copy_anaconda()"
   ]
  },
  {
   "cell_type": "code",
   "execution_count": 2,
   "metadata": {
    "ExecuteTime": {
     "end_time": "2020-09-06T13:00:07.543650Z",
     "start_time": "2020-09-06T13:00:07.529659Z"
    }
   },
   "outputs": [
    {
     "data": {
      "text/plain": [
       "'C:\\\\Users\\\\M151325\\\\Anaconda38'"
      ]
     },
     "execution_count": 2,
     "metadata": {},
     "output_type": "execute_result"
    }
   ],
   "source": [
    "self.anaconda_dir"
   ]
  },
  {
   "cell_type": "code",
   "execution_count": 3,
   "metadata": {
    "ExecuteTime": {
     "end_time": "2020-09-06T13:01:09.848638Z",
     "start_time": "2020-09-06T13:00:57.957664Z"
    }
   },
   "outputs": [],
   "source": [
    "! conda list > list.txt"
   ]
  },
  {
   "cell_type": "markdown",
   "metadata": {},
   "source": [
    "## 差分のはじめを指定\n",
    "- file_env.csvをtemp.csvに名前を変える"
   ]
  },
  {
   "cell_type": "markdown",
   "metadata": {},
   "source": [
    "## 現在のファイルリストを取得"
   ]
  },
  {
   "cell_type": "code",
   "execution_count": 4,
   "metadata": {
    "ExecuteTime": {
     "end_time": "2020-09-06T13:03:34.092507Z",
     "start_time": "2020-09-06T13:02:07.217859Z"
    }
   },
   "outputs": [
    {
     "name": "stdout",
     "output_type": "stream",
     "text": [
      "OK\n"
     ]
    }
   ],
   "source": [
    "self.get_list()"
   ]
  },
  {
   "cell_type": "markdown",
   "metadata": {},
   "source": [
    "## 差分を確認\n",
    "file_env.csvとtemp.csvの差分をとる"
   ]
  },
  {
   "cell_type": "code",
   "execution_count": 6,
   "metadata": {
    "ExecuteTime": {
     "end_time": "2020-09-06T13:03:40.702148Z",
     "start_time": "2020-09-06T13:03:38.261648Z"
    }
   },
   "outputs": [],
   "source": [
    "self.get_diff_list()"
   ]
  },
  {
   "cell_type": "markdown",
   "metadata": {},
   "source": [
    "## 差分の中で100Mごえを確認"
   ]
  },
  {
   "cell_type": "code",
   "execution_count": 3,
   "metadata": {
    "ExecuteTime": {
     "end_time": "2020-09-06T13:03:43.113082Z",
     "start_time": "2020-09-06T13:03:43.068111Z"
    }
   },
   "outputs": [
    {
     "ename": "AttributeError",
     "evalue": "'env_copy_anaconda' object has no attribute 'diff_df'",
     "output_type": "error",
     "traceback": [
      "\u001b[1;31m---------------------------------------------------------------------------\u001b[0m",
      "\u001b[1;31mAttributeError\u001b[0m                            Traceback (most recent call last)",
      "\u001b[1;32m<ipython-input-3-f3b00bca4724>\u001b[0m in \u001b[0;36m<module>\u001b[1;34m\u001b[0m\n\u001b[1;32m----> 1\u001b[1;33m \u001b[0mself\u001b[0m\u001b[1;33m.\u001b[0m\u001b[0mdiff_df\u001b[0m\u001b[1;33m[\u001b[0m\u001b[0mself\u001b[0m\u001b[1;33m.\u001b[0m\u001b[0mdiff_df\u001b[0m\u001b[1;33m[\u001b[0m\u001b[1;34m\"MB\"\u001b[0m\u001b[1;33m]\u001b[0m\u001b[1;33m>\u001b[0m\u001b[1;36m99\u001b[0m\u001b[1;33m]\u001b[0m\u001b[1;33m\u001b[0m\u001b[1;33m\u001b[0m\u001b[0m\n\u001b[0m",
      "\u001b[1;31mAttributeError\u001b[0m: 'env_copy_anaconda' object has no attribute 'diff_df'"
     ]
    }
   ],
   "source": [
    "self.diff_df[self.diff_df[\"MB\"]>99]"
   ]
  },
  {
   "cell_type": "markdown",
   "metadata": {},
   "source": [
    "## diff分のファイルを生成"
   ]
  },
  {
   "cell_type": "code",
   "execution_count": 4,
   "metadata": {
    "ExecuteTime": {
     "end_time": "2020-09-06T13:06:12.958775Z",
     "start_time": "2020-09-06T13:05:00.517475Z"
    },
    "scrolled": true
   },
   "outputs": [],
   "source": [
    "self.create_diff_file()"
   ]
  },
  {
   "cell_type": "markdown",
   "metadata": {},
   "source": [
    "## git\n",
    "コマンドでやる"
   ]
  },
  {
   "cell_type": "code",
   "execution_count": 4,
   "metadata": {
    "ExecuteTime": {
     "end_time": "2020-09-03T23:20:41.627569Z",
     "start_time": "2020-09-03T23:20:41.397711Z"
    }
   },
   "outputs": [],
   "source": [
    "! start ."
   ]
  },
  {
   "cell_type": "code",
   "execution_count": null,
   "metadata": {},
   "outputs": [],
   "source": [
    "git add .\n",
    "git commit -m \"first\"\n",
    "git push"
   ]
  },
  {
   "cell_type": "markdown",
   "metadata": {},
   "source": [
    "## 環境のコピー"
   ]
  },
  {
   "cell_type": "code",
   "execution_count": null,
   "metadata": {},
   "outputs": [],
   "source": [
    "import pandas as pd\n",
    "import os, hashlib\n",
    "import shutil"
   ]
  },
  {
   "cell_type": "markdown",
   "metadata": {},
   "source": [
    "taisho_pathにコピー元のフォルダを指定する"
   ]
  },
  {
   "cell_type": "code",
   "execution_count": null,
   "metadata": {},
   "outputs": [],
   "source": [
    "# taisho_path = r\"C:\\Users\\mineo\\Downloads\\env_conda3_win_v1.1\"\n",
    "# taisho_path = r\"C:\\Users\\mineo\\Downloads\\env_conda3_win_v2\"\n",
    "# taisho_path = r\"C:\\Users\\mineo\\Downloads\\env_conda3_win_v3.1\"\n",
    "# taisho_path = r\"C:\\Users\\mineo\\Downloads\\env_conda3_win_v4\"\n",
    "taisho_path = r\"F:\\E\\env_win_conda38-master\\env_win_conda38-master\"\n",
    "csv_path = os.path.join(taisho_path,\"file_env_diff.csv\")\n",
    "csv_path\n",
    "home_path = os.path.join(taisho_path,\"diff_env\")\n",
    "home_path"
   ]
  },
  {
   "cell_type": "code",
   "execution_count": null,
   "metadata": {},
   "outputs": [],
   "source": [
    "c=pd.read_csv(csv_path, index_col=0)\n",
    "li=c[\"path\"].values.tolist()\n",
    "c.head()"
   ]
  },
  {
   "cell_type": "code",
   "execution_count": null,
   "metadata": {},
   "outputs": [],
   "source": [
    "for f_path_moto in li:\n",
    "    f_path_copy = f_path_moto.replace(r\"C:\\Users\\mineo\\Anaconda38\",os.environ['anaconda3'])\n",
    "    f_path_moto = f_path_moto.replace(r\"C:\\Users\\mineo\\Anaconda38\",home_path)\n",
    "    if not os.path.exists(os.path.dirname(f_path_copy)):\n",
    "        os.makedirs(os.path.dirname(f_path_copy))\n",
    "    try:\n",
    "        shutil.copyfile(f_path_moto,f_path_copy)\n",
    "    except:\n",
    "        if f_path_moto.find(\".pyc\") == -1:\n",
    "            if f_path_moto.find(\".gitkeep\") == -1:\n",
    "                print(\"error\")\n",
    "                print(f_path_moto,f_path_copy)\n",
    "# print(f_path_copy,f_path_moto)"
   ]
  },
  {
   "cell_type": "code",
   "execution_count": null,
   "metadata": {},
   "outputs": [],
   "source": []
  },
  {
   "cell_type": "markdown",
   "metadata": {},
   "source": [
    "## factory"
   ]
  },
  {
   "cell_type": "code",
   "execution_count": null,
   "metadata": {
    "ExecuteTime": {
     "end_time": "2018-12-27T10:32:53.610245Z",
     "start_time": "2018-12-27T10:32:53.606247Z"
    }
   },
   "outputs": [],
   "source": [
    "import env_copy\n",
    "self=env_copy.env_copy_anaconda()"
   ]
  },
  {
   "cell_type": "code",
   "execution_count": null,
   "metadata": {
    "ExecuteTime": {
     "end_time": "2018-12-27T10:33:45.452860Z",
     "start_time": "2018-12-27T10:32:54.836929Z"
    }
   },
   "outputs": [],
   "source": [
    "df = self._get_list(\"diff_env\")"
   ]
  },
  {
   "cell_type": "code",
   "execution_count": null,
   "metadata": {
    "ExecuteTime": {
     "end_time": "2018-12-27T10:34:46.306352Z",
     "start_time": "2018-12-27T10:34:46.290363Z"
    }
   },
   "outputs": [],
   "source": [
    "df[df[\"MB\"]>30]"
   ]
  },
  {
   "cell_type": "code",
   "execution_count": null,
   "metadata": {},
   "outputs": [],
   "source": []
  }
 ],
 "metadata": {
  "kernelspec": {
   "display_name": "Python 3",
   "language": "python",
   "name": "python3"
  },
  "language_info": {
   "codemirror_mode": {
    "name": "ipython",
    "version": 3
   },
   "file_extension": ".py",
   "mimetype": "text/x-python",
   "name": "python",
   "nbconvert_exporter": "python",
   "pygments_lexer": "ipython3",
   "version": "3.8.3"
  },
  "nbTranslate": {
   "displayLangs": [
    "japanese",
    "en"
   ],
   "hotkey": "alt-t",
   "langInMainMenu": true,
   "sourceLang": "en",
   "targetLang": "japanese",
   "useGoogleTranslate": true
  },
  "toc": {
   "base_numbering": 1,
   "nav_menu": {},
   "number_sections": true,
   "sideBar": true,
   "skip_h1_title": false,
   "title_cell": "Table of Contents",
   "title_sidebar": "Contents",
   "toc_cell": false,
   "toc_position": {},
   "toc_section_display": true,
   "toc_window_display": false
  },
  "toc-autonumbering": true,
  "varInspector": {
   "cols": {
    "lenName": 16,
    "lenType": 16,
    "lenVar": 40
   },
   "kernels_config": {
    "python": {
     "delete_cmd_postfix": "",
     "delete_cmd_prefix": "del ",
     "library": "var_list.py",
     "varRefreshCmd": "print(var_dic_list())"
    },
    "r": {
     "delete_cmd_postfix": ") ",
     "delete_cmd_prefix": "rm(",
     "library": "var_list.r",
     "varRefreshCmd": "cat(var_dic_list()) "
    }
   },
   "types_to_exclude": [
    "module",
    "function",
    "builtin_function_or_method",
    "instance",
    "_Feature"
   ],
   "window_display": false
  }
 },
 "nbformat": 4,
 "nbformat_minor": 4
}
